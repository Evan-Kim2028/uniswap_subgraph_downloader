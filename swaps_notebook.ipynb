{
 "cells": [
  {
   "cell_type": "code",
   "execution_count": 1,
   "metadata": {},
   "outputs": [
    {
     "data": {
      "text/plain": [
       "polars.config.Config"
      ]
     },
     "execution_count": 1,
     "metadata": {},
     "output_type": "execute_result"
    }
   ],
   "source": [
    "import polars as pl\n",
    "\n",
    "pl.Config.set_fmt_str_lengths(200)\n",
    "pl.Config.set_fmt_float(\"full\")"
   ]
  },
  {
   "cell_type": "code",
   "execution_count": 2,
   "metadata": {},
   "outputs": [],
   "source": [
    "# these schemas were used to load the csv data and convert to parquet files.\n",
    "univ3_schema = {\n",
    "    '': pl.Int64,\n",
    "    'protocol': pl.Utf8,\n",
    "    'swaps_timestamp': pl.Int64,\n",
    "    'swaps_transaction_id': pl.Utf8,\n",
    "    'swaps_transaction_blockNumber': pl.Int64,\n",
    "    'swaps_transaction_timestamp': pl.Int64,\n",
    "    'swaps_transaction_gasPrice': pl.Float64,\n",
    "    'swaps_transaction_gasUsed': pl.Int64,\n",
    "    'swaps_logIndex': pl.Int64,\n",
    "    'swaps_sqrtPriceX96': pl.Float64,\n",
    "    'swaps_pool_id': pl.Utf8,\n",
    "    'swaps_pool_feeTier': pl.Int64,\n",
    "    'swaps_pool_liquidity': pl.Float64,\n",
    "    'swaps_pool_token0Price': pl.Float64,\n",
    "    'swaps_pool_token1Price': pl.Float64,\n",
    "    'swaps_recipient': pl.Utf8,\n",
    "    'swaps_sender': pl.Utf8,\n",
    "    'swaps_origin': pl.Utf8,\n",
    "    'swaps_amount0': pl.Float64,\n",
    "    'swaps_amount1': pl.Float64,\n",
    "    'swaps_token0_name': pl.Utf8,\n",
    "    'swaps_token0_decimals': pl.Int64,\n",
    "    'swaps_token0_symbol': pl.Utf8,\n",
    "    'swaps_token1_name': pl.Utf8,\n",
    "    'swaps_token1_decimals': pl.Int64,\n",
    "    'swaps_token1_symbol': pl.Utf8,\n",
    "}\n",
    "\n",
    "univ2_schema = {\n",
    "    '': pl.Int64,\n",
    "    'protocol': pl.Utf8,\n",
    "    'swaps_transaction_id': pl.Utf8,\n",
    "    'swaps_transaction_blockNumber': pl.Int64,\n",
    "    'swaps_transaction_timestamp': pl.Int64,\n",
    "    'swaps_logIndex': pl.Int64,\n",
    "    'swaps_amount0In': pl.Float64,\n",
    "    'swaps_amount0Out': pl.Float64,\n",
    "    'swaps_amount1In': pl.Float64,\n",
    "    'swaps_amount1Out': pl.Float64,\n",
    "    'swaps_amountUSD': pl.Float64,\n",
    "    'swaps_from': pl.Utf8,\n",
    "    'swaps_id': pl.Utf8,\n",
    "    'swaps_sender': pl.Utf8,\n",
    "    'swaps_to': pl.Utf8,\n",
    "    'swaps_pair_id': pl.Utf8,\n",
    "    'swaps_pair_reserve0': pl.Float64,\n",
    "    'swaps_pair_reserve1': pl.Float64,\n",
    "    'swaps_pair_token0_decimals': pl.Int64,\n",
    "    'swaps_pair_token0_id': pl.Utf8,\n",
    "    'swaps_pair_token0_name': pl.Utf8,\n",
    "    'swaps_pair_token0_symbol': pl.Utf8,\n",
    "    'swaps_pair_token1_decimals': pl.Int64,\n",
    "    'swaps_pair_token1_id': pl.Utf8,\n",
    "    'swaps_pair_token1_name': pl.Utf8,\n",
    "    'swaps_pair_token1_symbol': pl.Utf8,\n",
    "}"
   ]
  },
  {
   "cell_type": "code",
   "execution_count": 3,
   "metadata": {},
   "outputs": [],
   "source": [
    "univ3_raw_dfs = pl.read_csv('data/uniswap_v3/*.csv', dtypes=univ3_schema)\n",
    "univ2_raw_dfs = pl.read_csv('data/uniswap_v2/*.csv', dtypes=univ2_schema)"
   ]
  },
  {
   "cell_type": "code",
   "execution_count": 12,
   "metadata": {},
   "outputs": [],
   "source": [
    "# uncomment to save to parquets\n",
    "# univ3_raw_dfs.write_parquet('uniswap_sample_swaps/univ3_sample.parquet')\n",
    "# univ2_raw_dfs.write_parquet('uniswap_sample_swaps/univ2_sample.parquet')"
   ]
  },
  {
   "cell_type": "code",
   "execution_count": 14,
   "metadata": {},
   "outputs": [],
   "source": [
    "# load the sample parquet data\n",
    "univ3_dfs = pl.read_parquet('uniswap_sample_swaps/univ3_sample.parquet')\n",
    "univ2_dfs = pl.read_parquet('uniswap_sample_swaps/univ2_sample.parquet')"
   ]
  },
  {
   "cell_type": "code",
   "execution_count": 15,
   "metadata": {},
   "outputs": [
    {
     "data": {
      "text/html": [
       "<div><style>\n",
       ".dataframe > thead > tr,\n",
       ".dataframe > tbody > tr {\n",
       "  text-align: right;\n",
       "  white-space: pre-wrap;\n",
       "}\n",
       "</style>\n",
       "<small>shape: (5, 27)</small><table border=\"1\" class=\"dataframe\"><thead><tr><th></th><th>protocol</th><th>swaps_transaction_id</th><th>swaps_transaction_blockNumber</th><th>swaps_transaction_timestamp</th><th>swaps_transaction_gasPrice</th><th>swaps_transaction_gasUsed</th><th>swaps_logIndex</th><th>swaps_sqrtPriceX96</th><th>swaps_tick</th><th>swaps_pool_id</th><th>swaps_pool_feeTier</th><th>swaps_pool_liquidity</th><th>swaps_pool_token0Price</th><th>swaps_pool_token1Price</th><th>swaps_recipient</th><th>swaps_sender</th><th>swaps_origin</th><th>swaps_amount0</th><th>swaps_amount1</th><th>swaps_amountUSD</th><th>swaps_token0_name</th><th>swaps_token0_decimals</th><th>swaps_token0_symbol</th><th>swaps_token1_name</th><th>swaps_token1_decimals</th><th>swaps_token1_symbol</th></tr><tr><td>i64</td><td>str</td><td>str</td><td>i64</td><td>i64</td><td>f64</td><td>i64</td><td>i64</td><td>f64</td><td>i64</td><td>str</td><td>i64</td><td>f64</td><td>f64</td><td>f64</td><td>str</td><td>str</td><td>str</td><td>f64</td><td>f64</td><td>f64</td><td>str</td><td>i64</td><td>str</td><td>str</td><td>i64</td><td>str</td></tr></thead><tbody><tr><td>0</td><td>&quot;uniswap_v3&quot;</td><td>&quot;0x00001e04e5031b8716500e419dd8fe194bee5d82f02ec7a8a19132a342f10324&quot;</td><td>18616495</td><td>1700525627</td><td>32982822033</td><td>120463</td><td>79</td><td>424517521764716000000000000</td><td>-104588</td><td>&quot;0x2dd56b633faa1a5b46107d248714c9ccb6e20920&quot;</td><td>3000</td><td>3483533791990297700000</td><td>34550.10032085175</td><td>0.000028943476016377232</td><td>&quot;0x98c3d3183c4b8a650614ad179a1a98be0a8d6b8e&quot;</td><td>&quot;0x98c3d3183c4b8a650614ad179a1a98be0a8d6b8e&quot;</td><td>&quot;0xa6807d794411d9a80bc435dfc4cda0ba0ddde979&quot;</td><td>-74392.51417970784</td><td>2.1336422412829457</td><td>4321.62085877754</td><td>&quot;Republic Token&quot;</td><td>18</td><td>&quot;REN&quot;</td><td>&quot;Wrapped Ether&quot;</td><td>18</td><td>&quot;WETH&quot;</td></tr><tr><td>1</td><td>&quot;uniswap_v3&quot;</td><td>&quot;0x0002b79c41b8bbe27db772eff4e1787700e3626a2801bbd07bb356f24aa16758&quot;</td><td>18616720</td><td>1700528351</td><td>65770353998</td><td>160575</td><td>272</td><td>966716516331717500000000000</td><td>-88129</td><td>&quot;0x824a30f2984f9013f2c8d0a29c0a3cc5fd5c0673&quot;</td><td>3000</td><td>155566497952597350000000</td><td>4113.753771192164</td><td>0.00024308698469091902</td><td>&quot;0x3fc91a3afd70395cd496c647d5a6cc9d4b2b7fad&quot;</td><td>&quot;0x3fc91a3afd70395cd496c647d5a6cc9d4b2b7fad&quot;</td><td>&quot;0x0e21231b24af7f59ff9252ee3c7b715bd7f8d5f8&quot;</td><td>641</td><td>-0.09515497863478384</td><td>192.74023296853014</td><td>&quot;Blur&quot;</td><td>18</td><td>&quot;BLUR&quot;</td><td>&quot;Wrapped Ether&quot;</td><td>18</td><td>&quot;WETH&quot;</td></tr><tr><td>2</td><td>&quot;uniswap_v3&quot;</td><td>&quot;0x00038dc2f19e4e845b1f58c2a8256358b7a64260dce18d6e0bc357eda6580ca8&quot;</td><td>18613129</td><td>1700484851</td><td>21553856367</td><td>117329</td><td>91</td><td>299346773418540260000000000</td><td>-111576</td><td>&quot;0x7c3b1297ac649b36547b913de50919acb45a250c&quot;</td><td>3000</td><td>14022286895043284000000</td><td>69732.61431996939</td><td>0.000014340492031626429</td><td>&quot;0x98c3d3183c4b8a650614ad179a1a98be0a8d6b8e&quot;</td><td>&quot;0x98c3d3183c4b8a650614ad179a1a98be0a8d6b8e&quot;</td><td>&quot;0x5e2b6c6b2240d582995537d3fafdb556e4a3822f&quot;</td><td>-29564.31038831969</td><td>0.41996846278754735</td><td>849.8554160292604</td><td>&quot;Streamr&quot;</td><td>18</td><td>&quot;DATA&quot;</td><td>&quot;Wrapped Ether&quot;</td><td>18</td><td>&quot;WETH&quot;</td></tr><tr><td>3</td><td>&quot;uniswap_v3&quot;</td><td>&quot;0x0004347b145314141286cdaabd1aba2545092a3f57db1b51a559134afcaf5a4b&quot;</td><td>18617160</td><td>1700533655</td><td>57318022239</td><td>139511</td><td>47</td><td>1761170280291939800000000000</td><td>-76131</td><td>&quot;0x60594a405d53811d3bc4766596efd80fd545a270&quot;</td><td>500</td><td>758481639614703400000000</td><td>2047.3111210069076</td><td>0.0004884455468146827</td><td>&quot;0x51c72848c68a965f66fa7a88855f9f7784502a7f&quot;</td><td>&quot;0x51c72848c68a965f66fa7a88855f9f7784502a7f&quot;</td><td>&quot;0xd2700e7bbe0a8af6d6c5b3f61d27855daa425a53&quot;</td><td>-25683.921016118114</td><td>12.68899165356763</td><td>25718.13744141207</td><td>&quot;Dai Stablecoin&quot;</td><td>18</td><td>&quot;DAI&quot;</td><td>&quot;Wrapped Ether&quot;</td><td>18</td><td>&quot;WETH&quot;</td></tr><tr><td>4</td><td>&quot;uniswap_v3&quot;</td><td>&quot;0x000449110a93fb27aaa0ca7018d8e926929c6bae057a1a12ce65fdd457ee5f05&quot;</td><td>18616095</td><td>1700520755</td><td>47413857524</td><td>140133</td><td>29</td><td>3326588487267312000000000000000</td><td>74751</td><td>&quot;0x412940fdac1214fc3df430769f54e69210a18e49&quot;</td><td>3000</td><td>1402209642809007000000</td><td>0.0006089571180258358</td><td>1642.1517548589911</td><td>&quot;0x76a49f1b6c5ad7b360fbcda7e63741a736de4954&quot;</td><td>&quot;0xe592427a0aece92de3edee1f18e0157c05861564&quot;</td><td>&quot;0x315d2ee4fccda0def532ef4108ff57204f8d9eba&quot;</td><td>0.3451600939547534</td><td>-612.989571026243</td><td>698.6172293309779</td><td>&quot;Wrapped Ether&quot;</td><td>18</td><td>&quot;WETH&quot;</td><td>&quot;ELA on Ethereum&quot;</td><td>18</td><td>&quot;ELA&quot;</td></tr></tbody></table></div>"
      ],
      "text/plain": [
       "shape: (5, 27)\n",
       "┌─────┬────────────┬────────────┬────────────┬───┬────────────┬────────────┬───────────┬───────────┐\n",
       "│     ┆ protocol   ┆ swaps_tran ┆ swaps_tran ┆ … ┆ swaps_toke ┆ swaps_toke ┆ swaps_tok ┆ swaps_tok │\n",
       "│ --- ┆ ---        ┆ saction_id ┆ saction_bl ┆   ┆ n0_symbol  ┆ n1_name    ┆ en1_decim ┆ en1_symbo │\n",
       "│ i64 ┆ str        ┆ ---        ┆ ockNumber  ┆   ┆ ---        ┆ ---        ┆ als       ┆ l         │\n",
       "│     ┆            ┆ str        ┆ ---        ┆   ┆ str        ┆ str        ┆ ---       ┆ ---       │\n",
       "│     ┆            ┆            ┆ i64        ┆   ┆            ┆            ┆ i64       ┆ str       │\n",
       "╞═════╪════════════╪════════════╪════════════╪═══╪════════════╪════════════╪═══════════╪═══════════╡\n",
       "│ 0   ┆ uniswap_v3 ┆ 0x00001e04 ┆ 18616495   ┆ … ┆ REN        ┆ Wrapped    ┆ 18        ┆ WETH      │\n",
       "│     ┆            ┆ e5031b8716 ┆            ┆   ┆            ┆ Ether      ┆           ┆           │\n",
       "│     ┆            ┆ 500e419dd8 ┆            ┆   ┆            ┆            ┆           ┆           │\n",
       "│     ┆            ┆ fe194bee5d ┆            ┆   ┆            ┆            ┆           ┆           │\n",
       "│     ┆            ┆ 82f02ec7a8 ┆            ┆   ┆            ┆            ┆           ┆           │\n",
       "│     ┆            ┆ a19132a342 ┆            ┆   ┆            ┆            ┆           ┆           │\n",
       "│     ┆            ┆ f10324     ┆            ┆   ┆            ┆            ┆           ┆           │\n",
       "│ 1   ┆ uniswap_v3 ┆ 0x0002b79c ┆ 18616720   ┆ … ┆ BLUR       ┆ Wrapped    ┆ 18        ┆ WETH      │\n",
       "│     ┆            ┆ 41b8bbe27d ┆            ┆   ┆            ┆ Ether      ┆           ┆           │\n",
       "│     ┆            ┆ b772eff4e1 ┆            ┆   ┆            ┆            ┆           ┆           │\n",
       "│     ┆            ┆ 787700e362 ┆            ┆   ┆            ┆            ┆           ┆           │\n",
       "│     ┆            ┆ 6a2801bbd0 ┆            ┆   ┆            ┆            ┆           ┆           │\n",
       "│     ┆            ┆ 7bb356f24a ┆            ┆   ┆            ┆            ┆           ┆           │\n",
       "│     ┆            ┆ a16758     ┆            ┆   ┆            ┆            ┆           ┆           │\n",
       "│ 2   ┆ uniswap_v3 ┆ 0x00038dc2 ┆ 18613129   ┆ … ┆ DATA       ┆ Wrapped    ┆ 18        ┆ WETH      │\n",
       "│     ┆            ┆ f19e4e845b ┆            ┆   ┆            ┆ Ether      ┆           ┆           │\n",
       "│     ┆            ┆ 1f58c2a825 ┆            ┆   ┆            ┆            ┆           ┆           │\n",
       "│     ┆            ┆ 6358b7a642 ┆            ┆   ┆            ┆            ┆           ┆           │\n",
       "│     ┆            ┆ 60dce18d6e ┆            ┆   ┆            ┆            ┆           ┆           │\n",
       "│     ┆            ┆ 0bc357eda6 ┆            ┆   ┆            ┆            ┆           ┆           │\n",
       "│     ┆            ┆ 580ca8     ┆            ┆   ┆            ┆            ┆           ┆           │\n",
       "│ 3   ┆ uniswap_v3 ┆ 0x0004347b ┆ 18617160   ┆ … ┆ DAI        ┆ Wrapped    ┆ 18        ┆ WETH      │\n",
       "│     ┆            ┆ 1453141412 ┆            ┆   ┆            ┆ Ether      ┆           ┆           │\n",
       "│     ┆            ┆ 86cdaabd1a ┆            ┆   ┆            ┆            ┆           ┆           │\n",
       "│     ┆            ┆ ba2545092a ┆            ┆   ┆            ┆            ┆           ┆           │\n",
       "│     ┆            ┆ 3f57db1b51 ┆            ┆   ┆            ┆            ┆           ┆           │\n",
       "│     ┆            ┆ a559134afc ┆            ┆   ┆            ┆            ┆           ┆           │\n",
       "│     ┆            ┆ af5a4b     ┆            ┆   ┆            ┆            ┆           ┆           │\n",
       "│ 4   ┆ uniswap_v3 ┆ 0x00044911 ┆ 18616095   ┆ … ┆ WETH       ┆ ELA on     ┆ 18        ┆ ELA       │\n",
       "│     ┆            ┆ 0a93fb27aa ┆            ┆   ┆            ┆ Ethereum   ┆           ┆           │\n",
       "│     ┆            ┆ a0ca7018d8 ┆            ┆   ┆            ┆            ┆           ┆           │\n",
       "│     ┆            ┆ e926929c6b ┆            ┆   ┆            ┆            ┆           ┆           │\n",
       "│     ┆            ┆ ae057a1a12 ┆            ┆   ┆            ┆            ┆           ┆           │\n",
       "│     ┆            ┆ ce65fdd457 ┆            ┆   ┆            ┆            ┆           ┆           │\n",
       "│     ┆            ┆ ee5f05     ┆            ┆   ┆            ┆            ┆           ┆           │\n",
       "└─────┴────────────┴────────────┴────────────┴───┴────────────┴────────────┴───────────┴───────────┘"
      ]
     },
     "execution_count": 15,
     "metadata": {},
     "output_type": "execute_result"
    }
   ],
   "source": [
    "univ3_dfs.head(5)"
   ]
  },
  {
   "cell_type": "code",
   "execution_count": 16,
   "metadata": {},
   "outputs": [
    {
     "data": {
      "text/html": [
       "<div><style>\n",
       ".dataframe > thead > tr,\n",
       ".dataframe > tbody > tr {\n",
       "  text-align: right;\n",
       "  white-space: pre-wrap;\n",
       "}\n",
       "</style>\n",
       "<small>shape: (5, 26)</small><table border=\"1\" class=\"dataframe\"><thead><tr><th></th><th>protocol</th><th>swaps_transaction_id</th><th>swaps_transaction_blockNumber</th><th>swaps_transaction_timestamp</th><th>swaps_logIndex</th><th>swaps_amountUSD</th><th>swaps_amount0In</th><th>swaps_amount0Out</th><th>swaps_amount1In</th><th>swaps_amount1Out</th><th>swaps_from</th><th>swaps_id</th><th>swaps_sender</th><th>swaps_to</th><th>swaps_pair_id</th><th>swaps_pair_reserve0</th><th>swaps_pair_reserve1</th><th>swaps_pair_token0_decimals</th><th>swaps_pair_token0_id</th><th>swaps_pair_token0_name</th><th>swaps_pair_token0_symbol</th><th>swaps_pair_token1_decimals</th><th>swaps_pair_token1_id</th><th>swaps_pair_token1_name</th><th>swaps_pair_token1_symbol</th></tr><tr><td>i64</td><td>str</td><td>str</td><td>i64</td><td>i64</td><td>i64</td><td>f64</td><td>f64</td><td>f64</td><td>f64</td><td>f64</td><td>str</td><td>str</td><td>str</td><td>str</td><td>str</td><td>f64</td><td>f64</td><td>i64</td><td>str</td><td>str</td><td>str</td><td>i64</td><td>str</td><td>str</td><td>str</td></tr></thead><tbody><tr><td>0</td><td>&quot;uniswap_v2&quot;</td><td>&quot;0x00000c8e49405c34fa6906bb55f737240872deab59abb690966c98fdd233d863&quot;</td><td>18616340</td><td>1700523719</td><td>78</td><td>6121.4056585208</td><td>5391048233.760939</td><td>0</td><td>0</td><td>3.019354595462274</td><td>&quot;0x6d8003b5479e3cc8d0bbb7496679588f254d0878&quot;</td><td>&quot;0x00000c8e49405c34fa6906bb55f737240872deab59abb690966c98fdd233d863-0&quot;</td><td>&quot;0x51c72848c68a965f66fa7a88855f9f7784502a7f&quot;</td><td>&quot;0x51c72848c68a965f66fa7a88855f9f7784502a7f&quot;</td><td>&quot;0xa43fe16908251ee70ef74718545e4fe6c5ccec9f&quot;</td><td>4606479559692.817</td><td>2421.4952632940403</td><td>18</td><td>&quot;0x6982508145454ce325ddbe47a25d4ec3d2311933&quot;</td><td>&quot;Pepe&quot;</td><td>&quot;PEPE&quot;</td><td>18</td><td>&quot;0xc02aaa39b223fe8d0a0e5c4f27ead9083c756cc2&quot;</td><td>&quot;Wrapped Ether&quot;</td><td>&quot;WETH&quot;</td></tr><tr><td>1</td><td>&quot;uniswap_v2&quot;</td><td>&quot;0x000052aa89b9581a1dcdb9e0a15d51ec63a8191cde6618c2fa9e82a39eef269e&quot;</td><td>18614683</td><td>1700503691</td><td>391</td><td>102.95642554205011</td><td>0.05</td><td>0</td><td>0</td><td>27034637411.430805</td><td>&quot;0xfd750ec391e7518991a32549a6122905dd989c09&quot;</td><td>&quot;0x000052aa89b9581a1dcdb9e0a15d51ec63a8191cde6618c2fa9e82a39eef269e-0&quot;</td><td>&quot;0x3fc91a3afd70395cd496c647d5a6cc9d4b2b7fad&quot;</td><td>&quot;0xfd750ec391e7518991a32549a6122905dd989c09&quot;</td><td>&quot;0xcae69e00f4f48359d94cd9cb1ae1b66c09628204&quot;</td><td>47.54250138836155</td><td>33728570300140.063</td><td>18</td><td>&quot;0xc02aaa39b223fe8d0a0e5c4f27ead9083c756cc2&quot;</td><td>&quot;Wrapped Ether&quot;</td><td>&quot;WETH&quot;</td><td>18</td><td>&quot;0xd8e2d95c8614f28169757cd6445a71c291dec5bf&quot;</td><td>&quot;Grumpy Cat&quot;</td><td>&quot;GrumpyCat&quot;</td></tr><tr><td>2</td><td>&quot;uniswap_v2&quot;</td><td>&quot;0x000072efe8e2de089c6e92a3dbfa4785a347aac6db9eb8e8e7fdef521f95794e&quot;</td><td>18614529</td><td>1700501843</td><td>163</td><td>3862.6901892472038</td><td>0</td><td>3926.940066</td><td>13801.888877768168</td><td>0</td><td>&quot;0x170acb0595c1e53f4d7e82c58bc698b7806e58e5&quot;</td><td>&quot;0x000072efe8e2de089c6e92a3dbfa4785a347aac6db9eb8e8e7fdef521f95794e-0&quot;</td><td>&quot;0xc6265979793435b496e28e61af1500c22c3ba277&quot;</td><td>&quot;0x0d4a11d5eeaac28ec3f61d100daf4d40471f1852&quot;</td><td>&quot;0x19a4d8eab720056fa92f49680d3cb54c57a8b752&quot;</td><td>0.000001</td><td>0.000000002744670351</td><td>6</td><td>&quot;0xdac17f958d2ee523a2206206994597c13d831ec7&quot;</td><td>&quot;Tether USD&quot;</td><td>&quot;USDT&quot;</td><td>18</td><td>&quot;0xdb8ad3c6d7f9f364d59af9a62c3139cf5c6be88e&quot;</td><td>&quot;XNOVA&quot;</td><td>&quot;XNOVA&quot;</td></tr><tr><td>3</td><td>&quot;uniswap_v2&quot;</td><td>&quot;0x000072efe8e2de089c6e92a3dbfa4785a347aac6db9eb8e8e7fdef521f95794e&quot;</td><td>18614529</td><td>1700501843</td><td>166</td><td>3922.578167812174</td><td>0</td><td>1.9269496776124302</td><td>3926.940066</td><td>0</td><td>&quot;0x170acb0595c1e53f4d7e82c58bc698b7806e58e5&quot;</td><td>&quot;0x000072efe8e2de089c6e92a3dbfa4785a347aac6db9eb8e8e7fdef521f95794e-1&quot;</td><td>&quot;0xc6265979793435b496e28e61af1500c22c3ba277&quot;</td><td>&quot;0xdb5889e35e379ef0498aae126fc2cce1fbd23216&quot;</td><td>&quot;0x0d4a11d5eeaac28ec3f61d100daf4d40471f1852&quot;</td><td>20868.881164440078</td><td>42727503.064549</td><td>18</td><td>&quot;0xc02aaa39b223fe8d0a0e5c4f27ead9083c756cc2&quot;</td><td>&quot;Wrapped Ether&quot;</td><td>&quot;WETH&quot;</td><td>6</td><td>&quot;0xdac17f958d2ee523a2206206994597c13d831ec7&quot;</td><td>&quot;Tether USD&quot;</td><td>&quot;USDT&quot;</td></tr><tr><td>4</td><td>&quot;uniswap_v2&quot;</td><td>&quot;0x0000917a8cad757d560df5b3ed06826b5734def200dddc4e1c0438120753d07c&quot;</td><td>18614730</td><td>1700504255</td><td>289</td><td>15.00680042827412</td><td>1261800</td><td>0</td><td>0</td><td>0.007306909395363694</td><td>&quot;0x88b17dc6d69caad5a552952a7604a84690ccbcd9&quot;</td><td>&quot;0x0000917a8cad757d560df5b3ed06826b5734def200dddc4e1c0438120753d07c-0&quot;</td><td>&quot;0x7a250d5630b4cf539739df2c5dacb4c659f2488d&quot;</td><td>&quot;0x7a250d5630b4cf539739df2c5dacb4c659f2488d&quot;</td><td>&quot;0x526dee43b0c8a35f6f46773190854ecbb72a1754&quot;</td><td>713755199.0145625</td><td>1.0497059406472113</td><td>9</td><td>&quot;0x03d3b7b043e307cb0f7c9e84307d28eec1085397&quot;</td><td>&quot;𝕏Heart𝕏&quot;</td><td>&quot;𝕏❤️𝕏&quot;</td><td>18</td><td>&quot;0xc02aaa39b223fe8d0a0e5c4f27ead9083c756cc2&quot;</td><td>&quot;Wrapped Ether&quot;</td><td>&quot;WETH&quot;</td></tr></tbody></table></div>"
      ],
      "text/plain": [
       "shape: (5, 26)\n",
       "┌─────┬────────────┬────────────┬────────────┬───┬────────────┬────────────┬───────────┬───────────┐\n",
       "│     ┆ protocol   ┆ swaps_tran ┆ swaps_tran ┆ … ┆ swaps_pair ┆ swaps_pair ┆ swaps_pai ┆ swaps_pai │\n",
       "│ --- ┆ ---        ┆ saction_id ┆ saction_bl ┆   ┆ _token1_de ┆ _token1_id ┆ r_token1_ ┆ r_token1_ │\n",
       "│ i64 ┆ str        ┆ ---        ┆ ockNumber  ┆   ┆ cimals     ┆ ---        ┆ name      ┆ symbol    │\n",
       "│     ┆            ┆ str        ┆ ---        ┆   ┆ ---        ┆ str        ┆ ---       ┆ ---       │\n",
       "│     ┆            ┆            ┆ i64        ┆   ┆ i64        ┆            ┆ str       ┆ str       │\n",
       "╞═════╪════════════╪════════════╪════════════╪═══╪════════════╪════════════╪═══════════╪═══════════╡\n",
       "│ 0   ┆ uniswap_v2 ┆ 0x00000c8e ┆ 18616340   ┆ … ┆ 18         ┆ 0xc02aaa39 ┆ Wrapped   ┆ WETH      │\n",
       "│     ┆            ┆ 49405c34fa ┆            ┆   ┆            ┆ b223fe8d0a ┆ Ether     ┆           │\n",
       "│     ┆            ┆ 6906bb55f7 ┆            ┆   ┆            ┆ 0e5c4f27ea ┆           ┆           │\n",
       "│     ┆            ┆ 37240872de ┆            ┆   ┆            ┆ d9083c756c ┆           ┆           │\n",
       "│     ┆            ┆ ab59abb690 ┆            ┆   ┆            ┆ c2         ┆           ┆           │\n",
       "│     ┆            ┆ 966c98fdd2 ┆            ┆   ┆            ┆            ┆           ┆           │\n",
       "│     ┆            ┆ 33d863     ┆            ┆   ┆            ┆            ┆           ┆           │\n",
       "│ 1   ┆ uniswap_v2 ┆ 0x000052aa ┆ 18614683   ┆ … ┆ 18         ┆ 0xd8e2d95c ┆ Grumpy    ┆ GrumpyCat │\n",
       "│     ┆            ┆ 89b9581a1d ┆            ┆   ┆            ┆ 8614f28169 ┆ Cat       ┆           │\n",
       "│     ┆            ┆ cdb9e0a15d ┆            ┆   ┆            ┆ 757cd6445a ┆           ┆           │\n",
       "│     ┆            ┆ 51ec63a819 ┆            ┆   ┆            ┆ 71c291dec5 ┆           ┆           │\n",
       "│     ┆            ┆ 1cde6618c2 ┆            ┆   ┆            ┆ bf         ┆           ┆           │\n",
       "│     ┆            ┆ fa9e82a39e ┆            ┆   ┆            ┆            ┆           ┆           │\n",
       "│     ┆            ┆ ef269e     ┆            ┆   ┆            ┆            ┆           ┆           │\n",
       "│ 2   ┆ uniswap_v2 ┆ 0x000072ef ┆ 18614529   ┆ … ┆ 18         ┆ 0xdb8ad3c6 ┆ XNOVA     ┆ XNOVA     │\n",
       "│     ┆            ┆ e8e2de089c ┆            ┆   ┆            ┆ d7f9f364d5 ┆           ┆           │\n",
       "│     ┆            ┆ 6e92a3dbfa ┆            ┆   ┆            ┆ 9af9a62c31 ┆           ┆           │\n",
       "│     ┆            ┆ 4785a347aa ┆            ┆   ┆            ┆ 39cf5c6be8 ┆           ┆           │\n",
       "│     ┆            ┆ c6db9eb8e8 ┆            ┆   ┆            ┆ 8e         ┆           ┆           │\n",
       "│     ┆            ┆ e7fdef521f ┆            ┆   ┆            ┆            ┆           ┆           │\n",
       "│     ┆            ┆ 95794e     ┆            ┆   ┆            ┆            ┆           ┆           │\n",
       "│ 3   ┆ uniswap_v2 ┆ 0x000072ef ┆ 18614529   ┆ … ┆ 6          ┆ 0xdac17f95 ┆ Tether    ┆ USDT      │\n",
       "│     ┆            ┆ e8e2de089c ┆            ┆   ┆            ┆ 8d2ee523a2 ┆ USD       ┆           │\n",
       "│     ┆            ┆ 6e92a3dbfa ┆            ┆   ┆            ┆ 2062069945 ┆           ┆           │\n",
       "│     ┆            ┆ 4785a347aa ┆            ┆   ┆            ┆ 97c13d831e ┆           ┆           │\n",
       "│     ┆            ┆ c6db9eb8e8 ┆            ┆   ┆            ┆ c7         ┆           ┆           │\n",
       "│     ┆            ┆ e7fdef521f ┆            ┆   ┆            ┆            ┆           ┆           │\n",
       "│     ┆            ┆ 95794e     ┆            ┆   ┆            ┆            ┆           ┆           │\n",
       "│ 4   ┆ uniswap_v2 ┆ 0x0000917a ┆ 18614730   ┆ … ┆ 18         ┆ 0xc02aaa39 ┆ Wrapped   ┆ WETH      │\n",
       "│     ┆            ┆ 8cad757d56 ┆            ┆   ┆            ┆ b223fe8d0a ┆ Ether     ┆           │\n",
       "│     ┆            ┆ 0df5b3ed06 ┆            ┆   ┆            ┆ 0e5c4f27ea ┆           ┆           │\n",
       "│     ┆            ┆ 826b5734de ┆            ┆   ┆            ┆ d9083c756c ┆           ┆           │\n",
       "│     ┆            ┆ f200dddc4e ┆            ┆   ┆            ┆ c2         ┆           ┆           │\n",
       "│     ┆            ┆ 1c04381207 ┆            ┆   ┆            ┆            ┆           ┆           │\n",
       "│     ┆            ┆ 53d07c     ┆            ┆   ┆            ┆            ┆           ┆           │\n",
       "└─────┴────────────┴────────────┴────────────┴───┴────────────┴────────────┴───────────┴───────────┘"
      ]
     },
     "execution_count": 16,
     "metadata": {},
     "output_type": "execute_result"
    }
   ],
   "source": [
    "univ2_dfs.head(5)"
   ]
  },
  {
   "cell_type": "code",
   "execution_count": 17,
   "metadata": {},
   "outputs": [],
   "source": [
    "# select common fields, rename, and concat the dataframes together.\n",
    "combined_uni_swaps = (\n",
    "    pl.concat([\n",
    "        univ3_dfs.select(\n",
    "        'protocol', 'swaps_transaction_blockNumber', \n",
    "        'swaps_transaction_timestamp', 'swaps_transaction_id', \n",
    "        'swaps_amountUSD', 'swaps_token1_symbol', \n",
    "        'swaps_token0_symbol', 'swaps_pool_id'\n",
    "        ), \n",
    "        univ2_dfs.select('protocol', 'swaps_transaction_blockNumber', \n",
    "                         'swaps_transaction_timestamp', 'swaps_transaction_id', \n",
    "                         'swaps_amountUSD', 'swaps_pair_token1_symbol', \n",
    "                         'swaps_pair_token0_symbol', 'swaps_pair_id'\n",
    "                         ).rename({\n",
    "                                'swaps_pair_token1_symbol': 'swaps_token1_symbol', \n",
    "                                'swaps_pair_token0_symbol': 'swaps_token0_symbol', \n",
    "                                'swaps_pair_id': 'swaps_pool_id'\n",
    "                         })]\n",
    "        ))"
   ]
  },
  {
   "cell_type": "code",
   "execution_count": 18,
   "metadata": {},
   "outputs": [
    {
     "data": {
      "text/html": [
       "<div><style>\n",
       ".dataframe > thead > tr,\n",
       ".dataframe > tbody > tr {\n",
       "  text-align: right;\n",
       "  white-space: pre-wrap;\n",
       "}\n",
       "</style>\n",
       "<small>shape: (5, 8)</small><table border=\"1\" class=\"dataframe\"><thead><tr><th>protocol</th><th>swaps_transaction_blockNumber</th><th>swaps_transaction_timestamp</th><th>swaps_transaction_id</th><th>swaps_amountUSD</th><th>swaps_token1_symbol</th><th>swaps_token0_symbol</th><th>swaps_pool_id</th></tr><tr><td>str</td><td>i64</td><td>i64</td><td>str</td><td>f64</td><td>str</td><td>str</td><td>str</td></tr></thead><tbody><tr><td>&quot;uniswap_v3&quot;</td><td>18616495</td><td>1700525627</td><td>&quot;0x00001e04e5031b8716500e419dd8fe194bee5d82f02ec7a8a19132a342f10324&quot;</td><td>4321.62085877754</td><td>&quot;WETH&quot;</td><td>&quot;REN&quot;</td><td>&quot;0x2dd56b633faa1a5b46107d248714c9ccb6e20920&quot;</td></tr><tr><td>&quot;uniswap_v3&quot;</td><td>18616720</td><td>1700528351</td><td>&quot;0x0002b79c41b8bbe27db772eff4e1787700e3626a2801bbd07bb356f24aa16758&quot;</td><td>192.74023296853014</td><td>&quot;WETH&quot;</td><td>&quot;BLUR&quot;</td><td>&quot;0x824a30f2984f9013f2c8d0a29c0a3cc5fd5c0673&quot;</td></tr><tr><td>&quot;uniswap_v3&quot;</td><td>18613129</td><td>1700484851</td><td>&quot;0x00038dc2f19e4e845b1f58c2a8256358b7a64260dce18d6e0bc357eda6580ca8&quot;</td><td>849.8554160292604</td><td>&quot;WETH&quot;</td><td>&quot;DATA&quot;</td><td>&quot;0x7c3b1297ac649b36547b913de50919acb45a250c&quot;</td></tr><tr><td>&quot;uniswap_v3&quot;</td><td>18617160</td><td>1700533655</td><td>&quot;0x0004347b145314141286cdaabd1aba2545092a3f57db1b51a559134afcaf5a4b&quot;</td><td>25718.13744141207</td><td>&quot;WETH&quot;</td><td>&quot;DAI&quot;</td><td>&quot;0x60594a405d53811d3bc4766596efd80fd545a270&quot;</td></tr><tr><td>&quot;uniswap_v3&quot;</td><td>18616095</td><td>1700520755</td><td>&quot;0x000449110a93fb27aaa0ca7018d8e926929c6bae057a1a12ce65fdd457ee5f05&quot;</td><td>698.6172293309779</td><td>&quot;ELA&quot;</td><td>&quot;WETH&quot;</td><td>&quot;0x412940fdac1214fc3df430769f54e69210a18e49&quot;</td></tr></tbody></table></div>"
      ],
      "text/plain": [
       "shape: (5, 8)\n",
       "┌────────────┬────────────┬────────────┬───────────┬───────────┬───────────┬───────────┬───────────┐\n",
       "│ protocol   ┆ swaps_tran ┆ swaps_tran ┆ swaps_tra ┆ swaps_amo ┆ swaps_tok ┆ swaps_tok ┆ swaps_poo │\n",
       "│ ---        ┆ saction_bl ┆ saction_ti ┆ nsaction_ ┆ untUSD    ┆ en1_symbo ┆ en0_symbo ┆ l_id      │\n",
       "│ str        ┆ ockNumber  ┆ mestamp    ┆ id        ┆ ---       ┆ l         ┆ l         ┆ ---       │\n",
       "│            ┆ ---        ┆ ---        ┆ ---       ┆ f64       ┆ ---       ┆ ---       ┆ str       │\n",
       "│            ┆ i64        ┆ i64        ┆ str       ┆           ┆ str       ┆ str       ┆           │\n",
       "╞════════════╪════════════╪════════════╪═══════════╪═══════════╪═══════════╪═══════════╪═══════════╡\n",
       "│ uniswap_v3 ┆ 18616495   ┆ 1700525627 ┆ 0x00001e0 ┆ 4321.6208 ┆ WETH      ┆ REN       ┆ 0x2dd56b6 │\n",
       "│            ┆            ┆            ┆ 4e5031b87 ┆ 5877754   ┆           ┆           ┆ 33faa1a5b │\n",
       "│            ┆            ┆            ┆ 16500e419 ┆           ┆           ┆           ┆ 46107d248 │\n",
       "│            ┆            ┆            ┆ dd8fe194b ┆           ┆           ┆           ┆ 714c9ccb6 │\n",
       "│            ┆            ┆            ┆ ee5d82f02 ┆           ┆           ┆           ┆ e20920    │\n",
       "│            ┆            ┆            ┆ ec7a8a191 ┆           ┆           ┆           ┆           │\n",
       "│            ┆            ┆            ┆ 32a342f10 ┆           ┆           ┆           ┆           │\n",
       "│            ┆            ┆            ┆ 324       ┆           ┆           ┆           ┆           │\n",
       "│ uniswap_v3 ┆ 18616720   ┆ 1700528351 ┆ 0x0002b79 ┆ 192.74023 ┆ WETH      ┆ BLUR      ┆ 0x824a30f │\n",
       "│            ┆            ┆            ┆ c41b8bbe2 ┆ 296853014 ┆           ┆           ┆ 2984f9013 │\n",
       "│            ┆            ┆            ┆ 7db772eff ┆           ┆           ┆           ┆ f2c8d0a29 │\n",
       "│            ┆            ┆            ┆ 4e1787700 ┆           ┆           ┆           ┆ c0a3cc5fd │\n",
       "│            ┆            ┆            ┆ e3626a280 ┆           ┆           ┆           ┆ 5c0673    │\n",
       "│            ┆            ┆            ┆ 1bbd07bb3 ┆           ┆           ┆           ┆           │\n",
       "│            ┆            ┆            ┆ 56f24aa16 ┆           ┆           ┆           ┆           │\n",
       "│            ┆            ┆            ┆ 758       ┆           ┆           ┆           ┆           │\n",
       "│ uniswap_v3 ┆ 18613129   ┆ 1700484851 ┆ 0x00038dc ┆ 849.85541 ┆ WETH      ┆ DATA      ┆ 0x7c3b129 │\n",
       "│            ┆            ┆            ┆ 2f19e4e84 ┆ 60292604  ┆           ┆           ┆ 7ac649b36 │\n",
       "│            ┆            ┆            ┆ 5b1f58c2a ┆           ┆           ┆           ┆ 547b913de │\n",
       "│            ┆            ┆            ┆ 8256358b7 ┆           ┆           ┆           ┆ 50919acb4 │\n",
       "│            ┆            ┆            ┆ a64260dce ┆           ┆           ┆           ┆ 5a250c    │\n",
       "│            ┆            ┆            ┆ 18d6e0bc3 ┆           ┆           ┆           ┆           │\n",
       "│            ┆            ┆            ┆ 57eda6580 ┆           ┆           ┆           ┆           │\n",
       "│            ┆            ┆            ┆ ca8       ┆           ┆           ┆           ┆           │\n",
       "│ uniswap_v3 ┆ 18617160   ┆ 1700533655 ┆ 0x0004347 ┆ 25718.137 ┆ WETH      ┆ DAI       ┆ 0x60594a4 │\n",
       "│            ┆            ┆            ┆ b14531414 ┆ 44141207  ┆           ┆           ┆ 05d53811d │\n",
       "│            ┆            ┆            ┆ 1286cdaab ┆           ┆           ┆           ┆ 3bc476659 │\n",
       "│            ┆            ┆            ┆ d1aba2545 ┆           ┆           ┆           ┆ 6efd80fd5 │\n",
       "│            ┆            ┆            ┆ 092a3f57d ┆           ┆           ┆           ┆ 45a270    │\n",
       "│            ┆            ┆            ┆ b1b51a559 ┆           ┆           ┆           ┆           │\n",
       "│            ┆            ┆            ┆ 134afcaf5 ┆           ┆           ┆           ┆           │\n",
       "│            ┆            ┆            ┆ a4b       ┆           ┆           ┆           ┆           │\n",
       "│ uniswap_v3 ┆ 18616095   ┆ 1700520755 ┆ 0x0004491 ┆ 698.61722 ┆ ELA       ┆ WETH      ┆ 0x412940f │\n",
       "│            ┆            ┆            ┆ 10a93fb27 ┆ 93309779  ┆           ┆           ┆ dac1214fc │\n",
       "│            ┆            ┆            ┆ aaa0ca701 ┆           ┆           ┆           ┆ 3df430769 │\n",
       "│            ┆            ┆            ┆ 8d8e92692 ┆           ┆           ┆           ┆ f54e69210 │\n",
       "│            ┆            ┆            ┆ 9c6bae057 ┆           ┆           ┆           ┆ a18e49    │\n",
       "│            ┆            ┆            ┆ a1a12ce65 ┆           ┆           ┆           ┆           │\n",
       "│            ┆            ┆            ┆ fdd457ee5 ┆           ┆           ┆           ┆           │\n",
       "│            ┆            ┆            ┆ f05       ┆           ┆           ┆           ┆           │\n",
       "└────────────┴────────────┴────────────┴───────────┴───────────┴───────────┴───────────┴───────────┘"
      ]
     },
     "execution_count": 18,
     "metadata": {},
     "output_type": "execute_result"
    }
   ],
   "source": [
    "combined_uni_swaps.head(5)"
   ]
  },
  {
   "cell_type": "code",
   "execution_count": 19,
   "metadata": {},
   "outputs": [
    {
     "data": {
      "text/html": [
       "<div><style>\n",
       ".dataframe > thead > tr,\n",
       ".dataframe > tbody > tr {\n",
       "  text-align: right;\n",
       "  white-space: pre-wrap;\n",
       "}\n",
       "</style>\n",
       "<small>shape: (10, 6)</small><table border=\"1\" class=\"dataframe\"><thead><tr><th>protocol</th><th>swaps_pool_id</th><th>swaps_token1_symbol</th><th>swaps_token0_symbol</th><th>count</th><th>swaps_amountUSD</th></tr><tr><td>str</td><td>str</td><td>str</td><td>str</td><td>u32</td><td>f64</td></tr></thead><tbody><tr><td>&quot;uniswap_v3&quot;</td><td>&quot;0x88e6a0c2ddd26feeb64f039a2c41296fcb3f5640&quot;</td><td>&quot;WETH&quot;</td><td>&quot;USDC&quot;</td><td>1377</td><td>88338005.24801911</td></tr><tr><td>&quot;uniswap_v3&quot;</td><td>&quot;0x11b815efb8f581194ae79006d24e0d814b7697f6&quot;</td><td>&quot;USDT&quot;</td><td>&quot;WETH&quot;</td><td>1013</td><td>19367295.22038163</td></tr><tr><td>&quot;uniswap_v3&quot;</td><td>&quot;0xc7bbec68d12a0d1830360f8ec58fa599ba1b0e9b&quot;</td><td>&quot;USDT&quot;</td><td>&quot;WETH&quot;</td><td>652</td><td>22816114.10206238</td></tr><tr><td>&quot;uniswap_v3&quot;</td><td>&quot;0x824a30f2984f9013f2c8d0a29c0a3cc5fd5c0673&quot;</td><td>&quot;WETH&quot;</td><td>&quot;BLUR&quot;</td><td>532</td><td>2387419.0549251824</td></tr><tr><td>&quot;uniswap_v3&quot;</td><td>&quot;0x7f7ff8f22a902bb9b0aef07c6cb41d91a47e18e1&quot;</td><td>&quot;WETH&quot;</td><td>&quot;FLIP&quot;</td><td>397</td><td>2201758.8726176824</td></tr><tr><td>&quot;uniswap_v3&quot;</td><td>&quot;0x844eb5c280f38c7462316aad3f338ef9bda62668&quot;</td><td>&quot;WETH&quot;</td><td>&quot;MUBI&quot;</td><td>396</td><td>1134272.846974039</td></tr><tr><td>&quot;uniswap_v3&quot;</td><td>&quot;0x7a5bef8c4b1d511bc076a416b097eea798247301&quot;</td><td>&quot;CZ&quot;</td><td>&quot;WETH&quot;</td><td>380</td><td>562199.3561059216</td></tr><tr><td>&quot;uniswap_v2&quot;</td><td>&quot;0x0d4a11d5eeaac28ec3f61d100daf4d40471f1852&quot;</td><td>&quot;USDT&quot;</td><td>&quot;WETH&quot;</td><td>362</td><td>581370.1230146098</td></tr><tr><td>&quot;uniswap_v3&quot;</td><td>&quot;0x4e68ccd3e89f51c3074ca5072bbac773960dfa36&quot;</td><td>&quot;USDT&quot;</td><td>&quot;WETH&quot;</td><td>299</td><td>7182330.941255889</td></tr><tr><td>&quot;uniswap_v2&quot;</td><td>&quot;0x198a62268f29d72634b634f80def70c156215485&quot;</td><td>&quot;FROGE&quot;</td><td>&quot;WETH&quot;</td><td>286</td><td>609287.630785249</td></tr></tbody></table></div>"
      ],
      "text/plain": [
       "shape: (10, 6)\n",
       "┌────────────┬───────────────────┬───────────────────┬──────────────────┬───────┬──────────────────┐\n",
       "│ protocol   ┆ swaps_pool_id     ┆ swaps_token1_symb ┆ swaps_token0_sym ┆ count ┆ swaps_amountUSD  │\n",
       "│ ---        ┆ ---               ┆ ol                ┆ bol              ┆ ---   ┆ ---              │\n",
       "│ str        ┆ str               ┆ ---               ┆ ---              ┆ u32   ┆ f64              │\n",
       "│            ┆                   ┆ str               ┆ str              ┆       ┆                  │\n",
       "╞════════════╪═══════════════════╪═══════════════════╪══════════════════╪═══════╪══════════════════╡\n",
       "│ uniswap_v3 ┆ 0x88e6a0c2ddd26fe ┆ WETH              ┆ USDC             ┆ 1377  ┆ 88338005.2480191 │\n",
       "│            ┆ eb64f039a2c41296f ┆                   ┆                  ┆       ┆ 1                │\n",
       "│            ┆ cb3f5640          ┆                   ┆                  ┆       ┆                  │\n",
       "│ uniswap_v3 ┆ 0x11b815efb8f5811 ┆ USDT              ┆ WETH             ┆ 1013  ┆ 19367295.2203816 │\n",
       "│            ┆ 94ae79006d24e0d81 ┆                   ┆                  ┆       ┆ 3                │\n",
       "│            ┆ 4b7697f6          ┆                   ┆                  ┆       ┆                  │\n",
       "│ uniswap_v3 ┆ 0xc7bbec68d12a0d1 ┆ USDT              ┆ WETH             ┆ 652   ┆ 22816114.1020623 │\n",
       "│            ┆ 830360f8ec58fa599 ┆                   ┆                  ┆       ┆ 8                │\n",
       "│            ┆ ba1b0e9b          ┆                   ┆                  ┆       ┆                  │\n",
       "│ uniswap_v3 ┆ 0x824a30f2984f901 ┆ WETH              ┆ BLUR             ┆ 532   ┆ 2387419.05492518 │\n",
       "│            ┆ 3f2c8d0a29c0a3cc5 ┆                   ┆                  ┆       ┆ 24               │\n",
       "│            ┆ fd5c0673          ┆                   ┆                  ┆       ┆                  │\n",
       "│ …          ┆ …                 ┆ …                 ┆ …                ┆ …     ┆ …                │\n",
       "│ uniswap_v3 ┆ 0x7a5bef8c4b1d511 ┆ CZ                ┆ WETH             ┆ 380   ┆ 562199.356105921 │\n",
       "│            ┆ bc076a416b097eea7 ┆                   ┆                  ┆       ┆ 6                │\n",
       "│            ┆ 98247301          ┆                   ┆                  ┆       ┆                  │\n",
       "│ uniswap_v2 ┆ 0x0d4a11d5eeaac28 ┆ USDT              ┆ WETH             ┆ 362   ┆ 581370.123014609 │\n",
       "│            ┆ ec3f61d100daf4d40 ┆                   ┆                  ┆       ┆ 8                │\n",
       "│            ┆ 471f1852          ┆                   ┆                  ┆       ┆                  │\n",
       "│ uniswap_v3 ┆ 0x4e68ccd3e89f51c ┆ USDT              ┆ WETH             ┆ 299   ┆ 7182330.94125588 │\n",
       "│            ┆ 3074ca5072bbac773 ┆                   ┆                  ┆       ┆ 9                │\n",
       "│            ┆ 960dfa36          ┆                   ┆                  ┆       ┆                  │\n",
       "│ uniswap_v2 ┆ 0x198a62268f29d72 ┆ FROGE             ┆ WETH             ┆ 286   ┆ 609287.630785249 │\n",
       "│            ┆ 634b634f80def70c1 ┆                   ┆                  ┆       ┆                  │\n",
       "│            ┆ 56215485          ┆                   ┆                  ┆       ┆                  │\n",
       "└────────────┴───────────────────┴───────────────────┴──────────────────┴───────┴──────────────────┘"
      ]
     },
     "execution_count": 19,
     "metadata": {},
     "output_type": "execute_result"
    }
   ],
   "source": [
    "combined_uni_swaps.group_by('protocol', 'swaps_pool_id', 'swaps_token1_symbol', 'swaps_token0_symbol').agg(pl.count(), pl.col('swaps_amountUSD').sum()).sort(by='count', descending=True).head(10)"
   ]
  },
  {
   "cell_type": "code",
   "execution_count": 21,
   "metadata": {},
   "outputs": [
    {
     "data": {
      "text/plain": [
       "<Axes: title={'center': 'Swap Count and USD Vol per pool'}, xlabel='count', ylabel='swaps_amountUSD'>"
      ]
     },
     "execution_count": 21,
     "metadata": {},
     "output_type": "execute_result"
    },
    {
     "data": {
      "image/png": "[encoded data removed]",
      "text/plain": [
       "<Figure size 640x480 with 1 Axes>"
      ]
     },
     "metadata": {},
     "output_type": "display_data"
    }
   ],
   "source": [
    "# converting polars to pandas requires pyarrow. Install with `pip install pyarrow`.\n",
    "# plotting using `plot()` requires matplotlib. Install with `pip install matplotlib`\n",
    "combined_uni_swaps.group_by('protocol', 'swaps_pool_id', 'swaps_token1_symbol', 'swaps_token0_symbol').agg(pl.count(), pl.col('swaps_amountUSD').sum()).sort(by='count', descending=True).to_pandas().plot(kind='scatter', x='count', y='swaps_amountUSD', title='Swap Count and USD Vol per pool')"
   ]
  },
  {
   "cell_type": "code",
   "execution_count": null,
   "metadata": {},
   "outputs": [],
   "source": []
  }
 ],
 "metadata": {
  "kernelspec": {
   "display_name": ".venv",
   "language": "python",
   "name": "python3"
  },
  "language_info": {
   "codemirror_mode": {
    "name": "ipython",
    "version": 3
   },
   "file_extension": ".py",
   "mimetype": "text/x-python",
   "name": "python",
   "nbconvert_exporter": "python",
   "pygments_lexer": "ipython3",
   "version": "3.10.12"
  }
 },
 "nbformat": 4,
 "nbformat_minor": 2
}
